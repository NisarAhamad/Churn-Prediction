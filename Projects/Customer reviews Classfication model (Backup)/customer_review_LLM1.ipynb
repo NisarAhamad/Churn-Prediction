{
  "nbformat": 4,
  "nbformat_minor": 0,
  "metadata": {
    "colab": {
      "provenance": [],
      "mount_file_id": "1PHTTPrAecg1QuJk4ZGKN39nbnM02e8V1",
      "authorship_tag": "ABX9TyN6X62UlnjbzZuFxuO8P6YS",
      "include_colab_link": true
    },
    "kernelspec": {
      "name": "python3",
      "display_name": "Python 3"
    },
    "language_info": {
      "name": "python"
    }
  },
  "cells": [
    {
      "cell_type": "markdown",
      "metadata": {
        "id": "view-in-github",
        "colab_type": "text"
      },
      "source": [
        "<a href=\"https://colab.research.google.com/github/NisarAhamad/Churn-Prediction/blob/main/Projects/Customer%20reviews%20Classfication%20model%20(Backup)/customer_review_LLM1.ipynb\" target=\"_parent\"><img src=\"https://colab.research.google.com/assets/colab-badge.svg\" alt=\"Open In Colab\"/></a>"
      ]
    },
    {
      "cell_type": "code",
      "execution_count": null,
      "metadata": {
        "id": "CsIoMtUgdzm5"
      },
      "outputs": [],
      "source": []
    },
    {
      "cell_type": "code",
      "source": [
        "from google.colab import drive\n",
        "drive.mount('/content/drive')"
      ],
      "metadata": {
        "id": "9EfPCV1feIwO"
      },
      "execution_count": null,
      "outputs": []
    }
  ]
}